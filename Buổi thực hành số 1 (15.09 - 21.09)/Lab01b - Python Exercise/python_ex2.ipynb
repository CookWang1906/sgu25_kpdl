{
  "cells": [
    {
      "cell_type": "markdown",
      "id": "154c8525-a8b1-4532-8b8c-a6048596e61b",
      "metadata": {
        "id": "154c8525-a8b1-4532-8b8c-a6048596e61b"
      },
      "source": [
        "# Kỹ thuật lập trình Python"
      ]
    },
    {
      "cell_type": "markdown",
      "id": "bff7ceae-0971-41e5-9ad6-a25c303fecab",
      "metadata": {
        "id": "bff7ceae-0971-41e5-9ad6-a25c303fecab"
      },
      "source": [
        "## Làm quen với Numpy"
      ]
    },
    {
      "cell_type": "markdown",
      "id": "bda2fb69-42db-4a12-8b57-7b4815510961",
      "metadata": {
        "id": "bda2fb69-42db-4a12-8b57-7b4815510961"
      },
      "source": [
        "### Bài 1. Tính toán trên dãy số"
      ]
    },
    {
      "cell_type": "markdown",
      "id": "04e6a456-6793-4645-b159-426121c860a6",
      "metadata": {
        "id": "04e6a456-6793-4645-b159-426121c860a6"
      },
      "source": [
        "#### 1. Tạo một dãy số a có N phần tử (N = 10)"
      ]
    },
    {
      "cell_type": "code",
      "execution_count": 5,
      "id": "bac1a84b-a496-40c6-962e-97c0acaf7d8e",
      "metadata": {
        "colab": {
          "base_uri": "https://localhost:8080/"
        },
        "id": "bac1a84b-a496-40c6-962e-97c0acaf7d8e",
        "outputId": "a1a0cee0-8720-4f9b-fb70-c1b726a5e288"
      },
      "outputs": [
        {
          "name": "stdout",
          "output_type": "stream",
          "text": [
            "1. Tạo một dãy số a có N phần tử (N = 10)\n",
            "Day so a:  [0 1 2 3 4 5 6 7 8 9]\n"
          ]
        }
      ],
      "source": [
        "import numpy as np # Khai báo thư viện numpy\n",
        "\n",
        "print(\"1. Tạo một dãy số a có N phần tử (N = 10)\")\n",
        "N = 10\n",
        "a = np.arange(N)\n",
        "\n",
        "print(\"Day so a: \", a)"
      ]
    },
    {
      "cell_type": "markdown",
      "id": "4d85d8e2-16ff-42d1-acda-97e62736aaf6",
      "metadata": {
        "id": "4d85d8e2-16ff-42d1-acda-97e62736aaf6"
      },
      "source": [
        "#### 2. Các thao tác trên dãy số a\n",
        "(a) Bình phương các phần tử trong dãy số <br/>\n",
        "(b) Tìm số lượng các phần tử của dãy số <br/>\n",
        "(c) In ra giá trị lớn nhất, giá trị nhỏ nhất và giá trị trung bình <br/>\n",
        "(d) Tính phương sai của dãy số $\\sigma^2 = \\frac{\\sum{\\left(a_i - \\mu\\right)^2}}{N - 1}$ với $\\mu = \\frac{\\sum{a_i}}{N}$ và độ lệch chuẩn $var = \\sqrt{\\sigma^2}$"
      ]
    },
    {
      "cell_type": "code",
      "execution_count": 2,
      "id": "5d245b5b-90d5-48bf-b870-fc7c2deecd12",
      "metadata": {
        "colab": {
          "base_uri": "https://localhost:8080/"
        },
        "id": "5d245b5b-90d5-48bf-b870-fc7c2deecd12",
        "outputId": "73b9a591-ead6-4a36-ae4b-e63cc6b3db4b"
      },
      "outputs": [
        {
          "name": "stdout",
          "output_type": "stream",
          "text": [
            "2. Các thao tác tính toán đơn giản với dãy số a\n",
            "a. Binh phuong a:  [ 0  1  4  9 16 25 36 49 64 81]\n",
            "\n",
            "b. Do dai a:  10\n",
            "\n",
            "c. Gia tri lon nhat: [9], gia tri nho nhat: [0], gia tri trung binh [4.50]\n",
            "\n",
            "d. Phuong sai: [9.17] va do lech chuan: [3.03]\n"
          ]
        }
      ],
      "source": [
        "import numpy as np\n",
        "\n",
        "# Giả sử dãy số a đã có từ Bài 1\n",
        "N = 10\n",
        "a = np.arange(N)   # [0,1,2,...,9]\n",
        "\n",
        "print(\"2. Các thao tác tính toán đơn giản với dãy số a\")\n",
        "\n",
        "# a. Bình phương các phần tử\n",
        "a2 = a**2\n",
        "\n",
        "# b. Tìm số lượng phần tử\n",
        "na = len(a)\n",
        "\n",
        "# c. Giá trị lớn nhất, nhỏ nhất, trung bình\n",
        "v_max = np.max(a)\n",
        "v_min = np.min(a)\n",
        "v_avg = np.mean(a)\n",
        "\n",
        "# d. Phương sai và độ lệch chuẩn (theo công thức đề cho)\n",
        "mu = v_avg\n",
        "v_sigma2 = np.sum((a - mu)**2) / (na - 1)   # phương sai mẫu\n",
        "v_var = np.sqrt(v_sigma2)                   # độ lệch chuẩn\n",
        "\n",
        "# Xuất kết quả\n",
        "print(\"a. Binh phuong a: \", a2)\n",
        "print(\"\\nb. Do dai a: \", na)\n",
        "print(f\"\\nc. Gia tri lon nhat: [{v_max}], gia tri nho nhat: [{v_min}], gia tri trung binh [{v_avg:.2f}]\")\n",
        "print(f\"\\nd. Phuong sai: [{v_sigma2:.2f}] va do lech chuan: [{v_var:.2f}]\")"
      ]
    },
    {
      "cell_type": "markdown",
      "id": "1b582e22-cc99-4933-892b-e0d83672fb7f",
      "metadata": {
        "id": "1b582e22-cc99-4933-892b-e0d83672fb7f"
      },
      "source": [
        "#### 3. Toán tử trên hai dãy số\n",
        "(a) Tạo dãy số x có 10 phần tử từ 1 đến 10 (dùng hàm np.arange) <br/>\n",
        "(b) Liệt kê và đếm số lượng phần tử chẵn và lẻ có trong dãy a và x <br/>\n",
        "(c) Tính khoảng cách giữa các phần tử ở vị trí lẻ của mảng a và x với $s = \\sqrt{\\sum{\\left(a_i - x_i\\right)^2}}$ với $i$ lẻ<br/>\n",
        "(d) Tìm khoảng cách nhỏ nhất giữa tập a và x. Ví dụ: min({1, 3, 5}, {2, 10, 8}} = 1"
      ]
    },
    {
      "cell_type": "code",
      "execution_count": 6,
      "id": "1c6f51c1-ac3d-46a8-ab35-0d087877fb9d",
      "metadata": {
        "colab": {
          "base_uri": "https://localhost:8080/"
        },
        "id": "1c6f51c1-ac3d-46a8-ab35-0d087877fb9d",
        "outputId": "003f688d-41b0-4131-d7c6-60f10a36a26a"
      },
      "outputs": [
        {
          "name": "stdout",
          "output_type": "stream",
          "text": [
            "3. Xử lý khác trên dãy số\n",
            "a. Day so x: [ 1  2  3  4  5  6  7  8  9 10]\n"
          ]
        }
      ],
      "source": [
        "import numpy as np\n",
        "\n",
        "print(\"3. Xử lý khác trên dãy số\")\n",
        "x = np.arange(1, 11)\n",
        "\n",
        "print(f'a. Day so x: {x}')"
      ]
    },
    {
      "cell_type": "code",
      "execution_count": 7,
      "id": "13211d38-0008-49ba-ac7b-c4ea034d12f4",
      "metadata": {
        "colab": {
          "base_uri": "https://localhost:8080/"
        },
        "id": "13211d38-0008-49ba-ac7b-c4ea034d12f4",
        "outputId": "8ab2caa2-92b3-43b4-91a8-16ee283fb356"
      },
      "outputs": [
        {
          "name": "stdout",
          "output_type": "stream",
          "text": [
            "b. Cac phan tu chan trong day a, b: \n",
            "+ Day a: [0 1 2 3 4 5 6 7 8 9]\n",
            "  - Loc chan: [ True False  True False  True False  True False  True False]\n",
            "  - Day chua phan tu chan trong a: [0 2 4 6 8], so luong 5 phan tu.\n",
            "+ Day x: [ 1  2  3  4  5  6  7  8  9 10]\n",
            "  - Loc chan: [False  True False  True False  True False  True False  True]\n",
            "  - Day chua phan tu chan trong a: [ 2  4  6  8 10], so luong 5 phan tu.\n"
          ]
        }
      ],
      "source": [
        "print(\"b. Cac phan tu chan trong day a, b: \")\n",
        "a_la_chan = (a % 2 == 0)\n",
        "a_chan = a[a_la_chan]\n",
        "n_a_chan = len(a_chan)\n",
        "\n",
        "x_la_chan = (x % 2 == 0)\n",
        "x_chan = x[x_la_chan]\n",
        "n_x_chan = len(x_chan)\n",
        "\n",
        "print(f\"+ Day a: {a}\")\n",
        "print(f\"  - Loc chan: {a_la_chan}\")\n",
        "print(f\"  - Day chua phan tu chan trong a: {a_chan}, so luong {n_a_chan} phan tu.\")\n",
        "print(f\"+ Day x: {x}\")\n",
        "print(f\"  - Loc chan: {x_la_chan}\")\n",
        "print(f\"  - Day chua phan tu chan trong a: {x_chan}, so luong {n_x_chan} phan tu.\")"
      ]
    },
    {
      "cell_type": "code",
      "execution_count": 8,
      "id": "1d441e53-26ad-45ff-a6d4-6abbb9c66f65",
      "metadata": {
        "colab": {
          "base_uri": "https://localhost:8080/"
        },
        "id": "1d441e53-26ad-45ff-a6d4-6abbb9c66f65",
        "outputId": "397e737e-eb5a-41be-a32c-8ee1898b1948"
      },
      "outputs": [
        {
          "name": "stdout",
          "output_type": "stream",
          "text": [
            "c. Tính hiệu các phần tử ở vị trí lẻ của mảng a và x: \n",
            "+ Vi tri le trong a va x: [1 3 5 7 9]\n",
            "+ Day so a: [0 1 2 3 4 5 6 7 8 9] va cac so o vi tri le: [1 3 5 7 9]\n",
            "+ Day so x: [ 1  2  3  4  5  6  7  8  9 10] va cac so o vi tri le: [ 2  4  6  8 10]\n",
            "+ Hieu cua a va x o vi tri le: [-1 -1 -1 -1 -1]\n",
            "+ Khoang cach cac phan tu cua a va x o vi tri le:  2.24\n"
          ]
        }
      ],
      "source": [
        "v_le = np.arange(1, len(a), 2)     # chỉ số lẻ\n",
        "a_le = a[v_le]\n",
        "x_le = x[v_le]\n",
        "hieu_le = a_le - x_le\n",
        "kc_le = np.sqrt(np.sum(hieu_le**2))\n",
        "\n",
        "print(\"c. Tính hiệu các phần tử ở vị trí lẻ của mảng a và x: \")\n",
        "print(f\"+ Vi tri le trong a va x: {v_le}\")\n",
        "print(f\"+ Day so a: {a} va cac so o vi tri le: {a_le}\")\n",
        "print(f\"+ Day so x: {x} va cac so o vi tri le: {x_le}\")\n",
        "print(f\"+ Hieu cua a va x o vi tri le: {hieu_le}\")\n",
        "print(f\"+ Khoang cach cac phan tu cua a va x o vi tri le: {kc_le: .2f}\")"
      ]
    },
    {
      "cell_type": "code",
      "execution_count": 9,
      "id": "92f5e91d-e213-4146-b873-0d2936c6990e",
      "metadata": {
        "colab": {
          "base_uri": "https://localhost:8080/"
        },
        "id": "92f5e91d-e213-4146-b873-0d2936c6990e",
        "outputId": "8dd20cb9-9bfe-4376-d45f-4a5674ffe14d"
      },
      "outputs": [
        {
          "name": "stdout",
          "output_type": "stream",
          "text": [
            "d. Tìm khoảng cách nhỏ nhất giữa tập a và x. Ví dụ: min({1, 3, 5}, {2, 10, 8}} = 1\n",
            "+ Day a: [0 1 2 3 4 5 6 7 8 9]\n",
            "+ Day x: [ 1  2  3  4  5  6  7  8  9 10]\n",
            "+ Khoang cach nho nhat: 0\n"
          ]
        }
      ],
      "source": [
        "\"\"\"\n",
        "Gợi ý: Áp dụng toán tử broatcasting\n",
        "[[1],                    [[1, 1, 1],        [[2, 10, 8],    =   [[-1, -9, -7],\n",
        " [3],   - [2, 10, 8] =    [3, 3, 3],   -     [2, 10, 8],         [ 1, -7, -5],  --> np.min(np.abs(...)) = 1\n",
        " [5]]                     [5, 5, 5]]         [2, 10, 8]]         [ 3, -5, -3]]\n",
        "\"\"\"\n",
        "diff = a[:, np.newaxis] - x       # broadcasting để tính hiệu\n",
        "v_min = np.min(np.abs(diff))      # lấy giá trị tuyệt đối nhỏ nhất\n",
        "\n",
        "print(\"d. Tìm khoảng cách nhỏ nhất giữa tập a và x. Ví dụ: min({1, 3, 5}, {2, 10, 8}} = 1\")\n",
        "print(f\"+ Day a: {a}\")\n",
        "print(f\"+ Day x: {x}\")\n",
        "print(f\"+ Khoang cach nho nhat: {v_min}\")\n"
      ]
    },
    {
      "cell_type": "markdown",
      "id": "d18845b8-0d51-4666-ba1c-5ff836ef3d54",
      "metadata": {
        "id": "d18845b8-0d51-4666-ba1c-5ff836ef3d54"
      },
      "source": [
        "#### 4. Sinh ngẫu nhiên dãy số\n",
        "(a) Sinh ngẫu nhiên dãy số có 100 phần tử theo phân bố đều với giá trị trong đoạn [1, 10] và vẽ đồ thị tần số xuất hiện <br/>\n",
        "(b) Sinh ngẫu nhiên N diem (x, y) với y là hàm phân phối chuẩn $N(\\mu = 1, \\sigma^2 = 1.0)$: <br/>\n",
        " $$\n",
        " y = f\\left(x| \\mu, \\sigma\\right) = \\frac{1}{\\sigma\\sqrt{2\\pi}}exp\\left(-\\frac{\\left(x - \\mu\\right)^2}{2\\sigma^2}\\right)\n",
        " $$\n",
        " nơi mà $x \\in [\\mu - 5\\sigma, \\mu + 5\\sigma]$ <br/>\n",
        " (c) Sinh ngẫu nhiên dãy số có 100000 phần tử theo phân bố chuẩn $N(\\mu = 1, \\sigma^2 = 1.0)$ và vẽ đồ thị tần số xuất hiện <br/> <br/>"
      ]
    },
    {
      "cell_type": "code",
      "execution_count": 10,
      "id": "4d35cd9c-3163-486e-baef-63180ff2f5b6",
      "metadata": {
        "colab": {
          "base_uri": "https://localhost:8080/",
          "height": 595
        },
        "id": "4d35cd9c-3163-486e-baef-63180ff2f5b6",
        "outputId": "1af62173-121a-4fff-fadb-65e1ba4126fc"
      },
      "outputs": [
        {
          "name": "stdout",
          "output_type": "stream",
          "text": [
            "a. Sinh ngẫu nhiên theo phân bố đều\n",
            "+ Gia tri: [ 1  2  3  4  5  6  7  8  9 10]\n",
            "+ So lan xuat hien: [14  8  9  8  6 11 12 13  9 10]\n",
            "+ Do thi ham so xuat hien\n"
          ]
        },
        {
          "data": {
            "image/png": "[encoded data removed]",
            "text/plain": [
              "<Figure size 600x600 with 1 Axes>"
            ]
          },
          "metadata": {},
          "output_type": "display_data"
        }
      ],
      "source": [
        "import matplotlib.pyplot as plt\n",
        "import numpy as np\n",
        "\n",
        "# Sử dụng hàm np.random.randint để sinh dãy số ngẫu nhiên\n",
        "a = np.random.randint(1, 11, size=100)\n",
        "\n",
        "# Sử dụng hàm np.unique để trả về tần số xuất hiện\n",
        "value, cnt = np.unique(a, return_counts=True)\n",
        "\n",
        "print(\"a. Sinh ngẫu nhiên theo phân bố đều\")\n",
        "print(f\"+ Gia tri: {value}\")\n",
        "print(f\"+ So lan xuat hien: {cnt}\")\n",
        "print(\"+ Do thi ham so xuat hien\")\n",
        "plt.figure(figsize=(6,6))      #  kich thuoc ban ve\n",
        "plt.bar(value, cnt)            #  ve cac khoi chu nhat theo day x, y\n",
        "plt.xlim(0, 11)                #  gioi han truc x\n",
        "plt.ylim(0, np.max(cnt) + 10)  #  gioi han truc y\n",
        "plt.savefig(\"4a.png\")          #  luu do thi\n",
        "plt.show()                     #  hien thi do thi"
      ]
    },
    {
      "cell_type": "code",
      "execution_count": 11,
      "id": "55c99911-a213-4961-85b7-2ef09b775945",
      "metadata": {
        "colab": {
          "base_uri": "https://localhost:8080/",
          "height": 577
        },
        "id": "55c99911-a213-4961-85b7-2ef09b775945",
        "outputId": "40407780-56c3-4c74-c60f-dac473d99221"
      },
      "outputs": [
        {
          "name": "stdout",
          "output_type": "stream",
          "text": [
            "b. Sinh cặp (x, y) với y làm hàm phân phối chuẩn\n",
            "+ x: -4.0 <= min [-3.98] <= max [ 5.93] <= 6.0\n",
            "+ Ve ham so y(x)\n"
          ]
        },
        {
          "data": {
            "image/png": "[encoded data removed]",
            "text/plain": [
              "<Figure size 600x600 with 1 Axes>"
            ]
          },
          "metadata": {},
          "output_type": "display_data"
        }
      ],
      "source": [
        "import numpy as np\n",
        "import matplotlib.pyplot as plt\n",
        "\n",
        "N = 200\n",
        "mu = 1\n",
        "sigma = 1.0\n",
        "\n",
        "# Sinh ngẫu nhiên x trong đoạn [mu - 5σ, mu + 5σ]\n",
        "x_min, x_max = mu - 5 * sigma, mu + 5 * sigma\n",
        "x = np.random.rand(N) * (x_max - x_min) + x_min\n",
        "\n",
        "# Hàm mật độ chuẩn\n",
        "y = (1 / (sigma * np.sqrt(2 * np.pi))) * np.exp(-((x - mu) ** 2) / (2 * sigma**2))\n",
        "\n",
        "print(\"b. Sinh cặp (x, y) với y làm hàm phân phối chuẩn\")\n",
        "print(f\"+ x: {x_min} <= min [{np.min(x): .2f}] <= max [{np.max(x): .2f}] <= {x_max}\")\n",
        "print(f\"+ Ve ham so y(x)\")\n",
        "\n",
        "plt.figure(figsize=(6,6))      # kich thuoc ban ve\n",
        "plt.scatter(x, y)              # ve cac diem (xi, yi)\n",
        "plt.savefig(\"4b.png\")          #  luu do thi\n",
        "plt.show()                     #  hien thi do thi"
      ]
    },
    {
      "cell_type": "code",
      "execution_count": 12,
      "id": "0b4cf743-6afa-47da-8d3e-61f84623c707",
      "metadata": {
        "colab": {
          "base_uri": "https://localhost:8080/",
          "height": 577
        },
        "id": "0b4cf743-6afa-47da-8d3e-61f84623c707",
        "outputId": "070c29e4-9610-440b-adfc-65c870ad7fcf"
      },
      "outputs": [
        {
          "name": "stdout",
          "output_type": "stream",
          "text": [
            "c. Sinh day so theo phan phoi chuan\n",
            "+ x: len = 100000, min [-4.11], max [ 5.19]\n",
            "+ Mat so xac suat cua day so x\n"
          ]
        },
        {
          "data": {
            "image/png": "[encoded data removed]",
            "text/plain": [
              "<Figure size 600x600 with 1 Axes>"
            ]
          },
          "metadata": {},
          "output_type": "display_data"
        }
      ],
      "source": [
        "import numpy as np\n",
        "import matplotlib.pyplot as plt\n",
        "\n",
        "N = 100000\n",
        "mu = 1\n",
        "sigma = 1.0\n",
        "\n",
        "# Sinh phân phối chuẩn N(mu, sigma^2)\n",
        "x = mu + np.random.randn(N) * sigma\n",
        "\n",
        "# Thống kê tần số xuất hiện\n",
        "cnt, val = np.histogram(x, bins=300, density=True)\n",
        "val = (val[:-1] + val[1:]) / 2   # lấy trung điểm mỗi bin để vẽ\n",
        "\n",
        "print(\"c. Sinh day so theo phan phoi chuan\")\n",
        "print(f\"+ x: len = {len(x)}, min [{np.min(x): .2f}], max [{np.max(x): .2f}]\")\n",
        "print(f\"+ Mat so xac suat cua day so x\")\n",
        "\n",
        "plt.figure(figsize=(6,6))      # kich thuoc ban ve\n",
        "plt.xlim(np.min(val), np.max(val))\n",
        "plt.scatter(val, cnt)\n",
        "plt.show()"
      ]
    },
    {
      "cell_type": "markdown",
      "id": "4f1a6dde-3e75-4dc7-8bab-40b7b9e17091",
      "metadata": {
        "id": "4f1a6dde-3e75-4dc7-8bab-40b7b9e17091"
      },
      "source": [
        "### Bài 2. Tính toán trên ma trận"
      ]
    },
    {
      "cell_type": "markdown",
      "id": "8ce5c9f7-de68-44cf-a1ce-950822c408d3",
      "metadata": {
        "id": "8ce5c9f7-de68-44cf-a1ce-950822c408d3"
      },
      "source": [
        "#### 1. Tạo ma trận a có M = 6 dòng, N = 4 cột"
      ]
    },
    {
      "cell_type": "code",
      "execution_count": 13,
      "id": "17b1f09d-11c7-4711-8b40-f67abd54323e",
      "metadata": {
        "colab": {
          "base_uri": "https://localhost:8080/"
        },
        "id": "17b1f09d-11c7-4711-8b40-f67abd54323e",
        "outputId": "182a908b-1796-4cae-cec5-ec86c4025964"
      },
      "outputs": [
        {
          "name": "stdout",
          "output_type": "stream",
          "text": [
            "Ma trận a: \n",
            " [[158 131 172 196]\n",
            " [144 118 193 153]\n",
            " [152 158 109 184]\n",
            " [166 131 108 180]\n",
            " [159 106 139 147]\n",
            " [158 167 116 133]]\n"
          ]
        }
      ],
      "source": [
        "import numpy as np\n",
        "\n",
        "M, N = 6, 4\n",
        "a = np.random.randint(100, 200, (M, N))\n",
        "\n",
        "print(\"Ma trận a: \\n\", a)"
      ]
    },
    {
      "cell_type": "markdown",
      "id": "8bc353b9-1740-4e94-b779-eae046171142",
      "metadata": {
        "id": "8bc353b9-1740-4e94-b779-eae046171142"
      },
      "source": [
        "#### 2. Các thao tác trên ma trận a\n",
        "(a) In ra ma trận chuyển vị <br/>\n",
        "(b) In ra phần tử ở vị trí dòng 2 cột 3 <br/>\n",
        "(c) Trích xuất dòng đầu, dòng cuối, dòng 2 <br/>\n",
        "(d) Trích xuất cột kế cuối, cột đầu <br/>\n",
        "(e) Đảo các giá trị trên từng cột <br/>\n",
        "(f) Tính tổng các dòng, trung bình các cột <br/>"
      ]
    },
    {
      "cell_type": "code",
      "execution_count": 14,
      "id": "5236b916-3dda-4444-8004-9a6ab8d80df4",
      "metadata": {
        "colab": {
          "base_uri": "https://localhost:8080/"
        },
        "id": "5236b916-3dda-4444-8004-9a6ab8d80df4",
        "outputId": "ea75314b-8ffe-42c0-a1d2-e858445afa65"
      },
      "outputs": [
        {
          "name": "stdout",
          "output_type": "stream",
          "text": [
            "a. In ra ma trận chuyển vị: \n",
            "[[158 144 152 166 159 158]\n",
            " [131 118 158 131 106 167]\n",
            " [172 193 109 108 139 116]\n",
            " [196 153 184 180 147 133]]\n",
            "\n",
            "b. In ra phần tử ở vị trí dòng 2 cột 3: 193\n",
            "\n",
            "c. Trích xuất các dòng: \n",
            "   + Dòng đầu : [158 131 172 196]\n",
            "   + Dòng cuối: [158 167 116 133]\n",
            "   + Dòng hai : [144 118 193 153]\n",
            "\n",
            "d. Trích xuất các cột: \n",
            "   + Cột kế cuối: [172 193 109 108 139 116]\n",
            "   + Cột đầu: [158 144 152 166 159 158]\n",
            "\n",
            "e. Đảo các giá trị trên từng cột: \n",
            "[[158 167 116 133]\n",
            " [159 106 139 147]\n",
            " [166 131 108 180]\n",
            " [152 158 109 184]\n",
            " [144 118 193 153]\n",
            " [158 131 172 196]]\n",
            "\n",
            "f. Phép tính theo trục:\n",
            "   + Tổng dòng: [657 608 603 585 551 574]\n",
            "   + Trung bình cột: [156.16666667 135.16666667 139.5        165.5       ]\n"
          ]
        }
      ],
      "source": [
        "# (a) Ma trận chuyển vị\n",
        "a_t = a.T\n",
        "\n",
        "# (b) Phần tử dòng 2, cột 3 (chú ý index Python bắt đầu từ 0)\n",
        "v_23 = a[1, 2]\n",
        "\n",
        "# (c) Trích xuất dòng\n",
        "d_0    = a[0]       # dòng đầu\n",
        "d_last = a[-1]      # dòng cuối\n",
        "d_2    = a[1]       # dòng 2 (dòng thứ 2 trong đề, index=1)\n",
        "\n",
        "# (d) Trích xuất cột\n",
        "c_l1 = a[:, -2]     # cột kế cuối\n",
        "c_0  = a[:, 0]      # cột đầu\n",
        "\n",
        "# (e) Đảo các giá trị trên từng cột\n",
        "dao_cot = np.flipud(a)\n",
        "\n",
        "# (f) Tính tổng theo dòng, trung bình theo cột\n",
        "tong_dong = np.sum(a, axis=1)\n",
        "tb_cot    = np.mean(a, axis=0)\n",
        "\n",
        "print(f\"a. In ra ma trận chuyển vị: \\n{a_t}\")\n",
        "print(f\"\\nb. In ra phần tử ở vị trí dòng 2 cột 3: {v_23}\")\n",
        "print(f\"\\nc. Trích xuất các dòng: \")\n",
        "print(f\"   + Dòng đầu : {d_0}\")\n",
        "print(f\"   + Dòng cuối: {d_last}\")\n",
        "print(f\"   + Dòng hai : {d_2}\")\n",
        "print(f\"\\nd. Trích xuất các cột: \")\n",
        "print(f\"   + Cột kế cuối: {c_l1}\")\n",
        "print(f\"   + Cột đầu: {c_0}\")\n",
        "print(f\"\\ne. Đảo các giá trị trên từng cột: \\n{dao_cot}\")\n",
        "print(f\"\\nf. Phép tính theo trục:\")\n",
        "print(f\"   + Tổng dòng: {tong_dong}\")\n",
        "print(f\"   + Trung bình cột: {tb_cot}\")"
      ]
    },
    {
      "cell_type": "markdown",
      "id": "bca46803-13a7-4324-b719-0bffd7110119",
      "metadata": {
        "id": "bca46803-13a7-4324-b719-0bffd7110119"
      },
      "source": [
        "#### 3. Các toán tử trên hai ma trận\n",
        "(a) Tạo hai ma trận A và B có 4 dòng x 3 cột và X có 3 dòng x 4 cột <br/>\n",
        "(b) Tính tổng, hiệu, tích của từng phần tử trên hai ma trận A và B <br/>\n",
        "(c) Tính phép nhân ma trận Y = A x X"
      ]
    },
    {
      "cell_type": "code",
      "execution_count": 16,
      "id": "86d9c4ed-e86c-4baf-b51b-9dbd20e5c3cb",
      "metadata": {
        "colab": {
          "base_uri": "https://localhost:8080/"
        },
        "id": "86d9c4ed-e86c-4baf-b51b-9dbd20e5c3cb",
        "outputId": "d50c936e-f741-42e1-b883-cbd82e9e0d05"
      },
      "outputs": [
        {
          "name": "stdout",
          "output_type": "stream",
          "text": [
            "a. Tạo hai ma trận A và B có 4 dòng x 3 cột và X có 3 dòng x 4 cột\n",
            "+ Ma tran A: \n",
            "[[8 2 1]\n",
            " [4 8 8]\n",
            " [6 9 9]\n",
            " [8 3 9]]\n",
            "+ Ma tran B: \n",
            "[[3 6 3]\n",
            " [9 6 1]\n",
            " [7 6 7]\n",
            " [4 3 7]]\n",
            "+ Ma tran X: \n",
            "[[9 8 1 7]\n",
            " [4 4 4 1]\n",
            " [6 6 8 8]]\n",
            "\n",
            "b. Tính tổng, hiệu, tích của từng phần tử trên hai ma trận A và B\n",
            "A + B = \n",
            "[[11  8  4]\n",
            " [13 14  9]\n",
            " [13 15 16]\n",
            " [12  6 16]]\n",
            "A - B = \n",
            "[[ 5 -4 -2]\n",
            " [-5  2  7]\n",
            " [-1  3  2]\n",
            " [ 4  0  2]]\n",
            "A . B = \n",
            "[[24 12  3]\n",
            " [36 48  8]\n",
            " [42 54 63]\n",
            " [32  9 63]]\n",
            "\n",
            "c. Tính phép nhân ma trận Y = A x X\n",
            "Y = A x X --> shape A (4, 3) x shape X (3, 4) = shape Y (4, 4) \n",
            "[[ 86  78  24  66]\n",
            " [116 112 100 100]\n",
            " [144 138 114 123]\n",
            " [138 130  92 131]]\n"
          ]
        }
      ],
      "source": [
        "# (a) Tạo hai ma trận A, B (4x3) và X (3x4)\n",
        "A = np.random.randint(1, 10, (4, 3))\n",
        "B = np.random.randint(1, 10, (4, 3))\n",
        "X = np.random.randint(1, 10, (3, 4))\n",
        "\n",
        "# (b) Tổng, hiệu, tích từng phần tử\n",
        "AB_add = A + B\n",
        "AB_sub = A - B\n",
        "AB_mul = A * B\n",
        "\n",
        "# (c) Phép nhân ma trận\n",
        "Y = A @ X   # hoặc np.dot(A, X)\n",
        "\n",
        "print(\"a. Tạo hai ma trận A và B có 4 dòng x 3 cột và X có 3 dòng x 4 cột\")\n",
        "print(f\"+ Ma tran A: \\n{A}\")\n",
        "print(f\"+ Ma tran B: \\n{B}\")\n",
        "print(f\"+ Ma tran X: \\n{X}\")\n",
        "\n",
        "print(\"\\nb. Tính tổng, hiệu, tích của từng phần tử trên hai ma trận A và B\")\n",
        "print(f\"A + B = \\n{AB_add}\")\n",
        "print(f\"A - B = \\n{AB_sub}\")\n",
        "print(f\"A . B = \\n{AB_mul}\")\n",
        "\n",
        "print(\"\\nc. Tính phép nhân ma trận Y = A x X\")\n",
        "print(f\"Y = A x X --> shape A {A.shape} x shape X {X.shape} = shape Y {Y.shape} \\n{Y}\")"
      ]
    },
    {
      "cell_type": "markdown",
      "id": "43602379-f77d-44ba-b2e3-23f85c6bcf5a",
      "metadata": {
        "id": "43602379-f77d-44ba-b2e3-23f85c6bcf5a"
      },
      "source": [
        "#### 4. Giải hệ phương trình tuyến tính\n",
        "Giải hệ phương trình tuyến tính sau:\n",
        "$$\n",
        "\\left\\{\\begin{matrix}\n",
        "        4x_1  + 3x_2 - 5x_3 = 2 \\\\\n",
        "        -2x_1 - 4x_2 + 5x_3 = 5 \\\\\n",
        "        8x_1 + 8x_2 = -3 \\\\\n",
        "\\end{matrix}\\right.\n",
        "$$"
      ]
    },
    {
      "cell_type": "code",
      "execution_count": null,
      "id": "53db2e93-fcbe-49f6-a4dd-482d22bcda54",
      "metadata": {
        "id": "53db2e93-fcbe-49f6-a4dd-482d22bcda54",
        "outputId": "2e7ef1a2-3c2f-4a9b-dad1-48ef9143226d"
      },
      "outputs": [
        {
          "name": "stdout",
          "output_type": "stream",
          "text": [
            "+ Ma tran A: \n",
            "[[ 4  3 -5]\n",
            " [-2 -4  5]\n",
            " [ 8  8  0]]\n",
            "+ Vector y: [ 2  5 -3]\n",
            "+ Nghiem x: [ 2.20833333 -2.58333333 -0.18333333]\n",
            "+ Kiem tra: yy = Ax = [ 2.  5. -3.] ==> ||yy -y ||_2 =  0.00\n"
          ]
        }
      ],
      "source": [
        "# Ma trận hệ số A và vector hằng số y\n",
        "A = np.array([[ 4,  3, -5],\n",
        "              [-2, -4,  5],\n",
        "              [ 8,  8,  0]])\n",
        "y = np.array([2, 5, -3])\n",
        "\n",
        "# Giải hệ phương trình tuyến tính\n",
        "x = np.linalg.solve(A, y)\n",
        "\n",
        "# Kiểm tra nghiệm\n",
        "yy = A @ x\n",
        "diff = np.linalg.norm(yy - y)\n",
        "\n",
        "print(f\"+ Ma tran A: \\n{A}\")\n",
        "print(f\"+ Vector y: {y}\")\n",
        "print(f\"+ Nghiem x: {x}\")\n",
        "print(f\"+ Kiem tra: yy = Ax = {yy} ==> ||yy - y||_2 = {diff: .2f}\")"
      ]
    },
    {
      "cell_type": "markdown",
      "id": "526b7e20-beca-4087-9cab-02ccc0a8f856",
      "metadata": {
        "id": "526b7e20-beca-4087-9cab-02ccc0a8f856"
      },
      "source": [
        "## Bài tập áp dụng"
      ]
    },
    {
      "cell_type": "markdown",
      "id": "9ee067fb-2045-4d3e-b504-ff4a8c3dcf37",
      "metadata": {
        "id": "9ee067fb-2045-4d3e-b504-ff4a8c3dcf37"
      },
      "source": [
        "### Bài 3. Tính gần đúng số pi dùng phương pháp Monte Carlo\n",
        "\n",
        "Vẽ một đường tròn $C$ có bán kính $r$ nội tiếp một hình vuông $C$, và đặt ngẫu nhiên $N$ chấm lên hình vuông. Tỉ lệ các chấm nằm trong hình tròn trên tổng số chấm xấp xỉ bằng diện tích của hình tròn chia cho hình vuông như sau:\n",
        "$$\n",
        "\\frac{N_C}{N} \\approx  \\frac{\\mathbb{S}_C}{\\mathbb{S}_N}\n",
        "$$\n",
        "nơi mà $N_C$ là các chấm trong hình tròn, $N$ là tổng số chấm, $\\mathbb{S}_C$ và $\\mathbb{S}_N$ lần lượt là diện tích của hình tròn và hình vuông.\n",
        "$$ \\mathbb{S}_C = \\pi * r^2 $$\n",
        "$$ \\mathbb{S}_N = (2*r)^2 = 4r^2 $$\n",
        "Do đó, công thức trên trở thành:\n",
        "$$\n",
        "\\frac{N_C}{N} \\approx \\frac{\\pi * r^2}{4r^2} = \\frac{\\pi}{4}\n",
        "$$\n",
        "Suy ra, ta có giá trị số $\\pi$ được tính như sau:\n",
        "$$\n",
        "\\pi \\approx \\frac{4N_C}{N}\n",
        "$$\n",
        "\n",
        "Các bạn hãy lập trình tính sấp xỉ số $\\pi$ dùng phương pháp Monte Carlo. Cho biết các sai số với $N = 100$, $N = 10000$, và $N = 1000000$. Vẽ đồ thị minh họa cho chương trình.\n",
        "\n",
        "**Hướng dẫn**: Viết chương trình phát sinh $N$ điểm $(x_i, y_i)$ với $x_i, y_i \\in [-1, -1]$. $(x_i, y_i)$ thuộc hình tròn tâm $(0, 0)$ bán kính 1 nội tiếp hình vuông có tâm tại $(0, 0)$ độ dài cạnh 2 khi và chỉ khi $x_i^2 + y_i^2 <= 1$."
      ]
    },
    {
      "cell_type": "code",
      "execution_count": 17,
      "id": "793640f7-4ba5-4d27-9d52-a65f4c25a5b0",
      "metadata": {
        "colab": {
          "base_uri": "https://localhost:8080/",
          "height": 528
        },
        "id": "793640f7-4ba5-4d27-9d52-a65f4c25a5b0",
        "outputId": "223235c8-9924-4632-8e6a-2acc0d219fcb"
      },
      "outputs": [
        {
          "data": {
            "image/png": "[encoded data removed]",
            "text/plain": [
              "<Figure size 600x600 with 1 Axes>"
            ]
          },
          "metadata": {},
          "output_type": "display_data"
        }
      ],
      "source": [
        "import matplotlib.pyplot as plt # khai báo thư viện vẽ pyplot\n",
        "import math\n",
        "\n",
        "circle = plt.Circle((0, 0), 1, color='g') # tạo đối tượng vòng tròn\n",
        "\n",
        "fig, ax = plt.subplots(figsize=(6, 6)) # lấy figure và vùng vẽ\n",
        "\n",
        "plt.plot(0, 0, 'o', color=(0.9, 0.9, 1.0), alpha=0.8) # vẽ điểm tại tâm (0,0)\n",
        "ax.add_patch(circle) # thêm vòng tròn vào vùng vẽ\n",
        "\n",
        "x = 0.75; y = math.sqrt(1 - (x ** 2)) # (x = 0.75, y = căn bậc 2 của 1 - x^2)\n",
        "plt.arrow(0, 0, x, y)\n",
        "\n",
        "plt.xlim(-1, 1) # giới hạn trục x\n",
        "plt.ylim(-1, 1) # giới hạn trục y\n",
        "\n",
        "plt.savefig('pi.png') # lưu đồ thị xuống tập tin\n",
        "plt.show()            # hiển thị đồ thị"
      ]
    },
    {
      "cell_type": "code",
      "execution_count": 20,
      "id": "bef335d2-9e51-4fa5-8843-aa1d67a607f0",
      "metadata": {
        "colab": {
          "base_uri": "https://localhost:8080/",
          "height": 620
        },
        "id": "bef335d2-9e51-4fa5-8843-aa1d67a607f0",
        "outputId": "09e5b032-6c29-4a4f-ab69-b4d03c5303aa"
      },
      "outputs": [
        {
          "name": "stdout",
          "output_type": "stream",
          "text": [
            "N =     100, pi ≈ 2.920000, sai số = 2.215927e-01\n",
            "N =   10000, pi ≈ 3.147600, sai số = 6.007346e-03\n",
            "N = 1000000, pi ≈ 3.142640, sai số = 1.047346e-03\n"
          ]
        },
        {
          "data": {
            "image/png": "[encoded data removed]",
            "text/plain": [
              "<Figure size 600x600 with 1 Axes>"
            ]
          },
          "metadata": {},
          "output_type": "display_data"
        }
      ],
      "source": [
        "import numpy as np\n",
        "import matplotlib.pyplot as plt\n",
        "import math\n",
        "\n",
        "def calc_pi_monte_carlo(n=100):\n",
        "    # sinh ngẫu nhiên n điểm trong hình vuông [-1,1] x [-1,1]\n",
        "    x = np.random.rand(n) * 2 - 1\n",
        "    y = np.random.rand(n) * 2 - 1\n",
        "\n",
        "    # đếm số điểm nằm trong đường tròn x^2 + y^2 <= 1\n",
        "    inside = (x**2 + y**2) <= 1\n",
        "    n_inside = np.sum(inside)\n",
        "\n",
        "    # công thức xấp xỉ pi\n",
        "    pi = 4 * n_inside / n\n",
        "    return pi, x, y, inside\n",
        "\n",
        "# chạy thử với N = 100, 10000, 1000000\n",
        "for N in [100, 10000, 1000000]:\n",
        "    pi_est, x, y, inside = calc_pi_monte_carlo(N)\n",
        "    eps = abs(pi_est - math.pi)\n",
        "    print(f\"N = {N:>7}, pi ≈ {pi_est:.6f}, sai số = {eps:.6e}\")\n",
        "\n",
        "# vẽ minh họa cho N nhỏ (ví dụ N = 500)\n",
        "N = 500\n",
        "pi_est, x, y, inside = calc_pi_monte_carlo(N)\n",
        "\n",
        "plt.figure(figsize=(6,6))\n",
        "# các điểm trong hình tròn\n",
        "plt.scatter(x[inside], y[inside], c='green', s=10, label=\"Trong hình tròn\")\n",
        "# các điểm ngoài hình tròn\n",
        "plt.scatter(x[~inside], y[~inside], c='red', s=10, label=\"Ngoài hình tròn\")\n",
        "# vẽ đường tròn biên\n",
        "circle = plt.Circle((0,0), 1, fill=False, color='blue', linewidth=2)\n",
        "plt.gca().add_patch(circle)\n",
        "\n",
        "plt.title(f\"Monte Carlo ước lượng pi với N = {N}, pi ≈ {pi_est:.4f}\")\n",
        "plt.xlabel(\"x\")\n",
        "plt.ylabel(\"y\")\n",
        "plt.legend()\n",
        "plt.axis(\"equal\")\n",
        "plt.show()"
      ]
    },
    {
      "cell_type": "code",
      "execution_count": null,
      "id": "91071758-5957-497b-a5d1-2f2d17df6fae",
      "metadata": {
        "colab": {
          "base_uri": "https://localhost:8080/"
        },
        "id": "91071758-5957-497b-a5d1-2f2d17df6fae",
        "outputId": "6249961f-5bcf-4cde-b28f-a02cd10f1043"
      },
      "outputs": [
        {
          "name": "stdout",
          "output_type": "stream",
          "text": [
            "epsilon(n=100):  0.05840734641020706\n",
            "epsilon(n=100):  -0.061592653589793045\n",
            "epsilon(n=10000):  0.032407346410206817\n",
            "epsilon(n=10000):  -0.005592653589792995\n",
            "epsilon(n=1000000):  -0.0018806535897932797\n",
            "epsilon(n=1000000):  0.001071346410206786\n"
          ]
        }
      ],
      "source": [
        "import math\n",
        "\n",
        "print(\"epsilon(n=100): \", calc_pi_monte_carlo(n=100)[0] - math.pi)\n",
        "print(\"epsilon(n=100): \", calc_pi_monte_carlo(n=100)[0] - math.pi)\n",
        "print(\"epsilon(n=10000): \", calc_pi_monte_carlo(n=10000)[0] - math.pi)\n",
        "print(\"epsilon(n=10000): \", calc_pi_monte_carlo(n=10000)[0] - math.pi)\n",
        "print(\"epsilon(n=1000000): \", calc_pi_monte_carlo(n=1000000)[0] - math.pi)\n",
        "print(\"epsilon(n=1000000): \", calc_pi_monte_carlo(n=1000000)[0] - math.pi)"
      ]
    }
  ],
  "metadata": {
    "colab": {
      "provenance": []
    },
    "kernelspec": {
      "display_name": "Python 3",
      "language": "python",
      "name": "python3"
    },
    "language_info": {
      "codemirror_mode": {
        "name": "ipython",
        "version": 3
      },
      "file_extension": ".py",
      "mimetype": "text/x-python",
      "name": "python",
      "nbconvert_exporter": "python",
      "pygments_lexer": "ipython3",
      "version": "3.8.8"
    }
  },
  "nbformat": 4,
  "nbformat_minor": 5
}
